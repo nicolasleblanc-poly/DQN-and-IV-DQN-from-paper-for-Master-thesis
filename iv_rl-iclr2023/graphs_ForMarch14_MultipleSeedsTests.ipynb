{
 "cells": [
  {
   "cell_type": "code",
   "execution_count": 1,
   "metadata": {},
   "outputs": [],
   "source": [
    "import numpy as np\n",
    "import matplotlib.pyplot as plt\n",
    "\n"
   ]
  },
  {
   "cell_type": "markdown",
   "metadata": {},
   "source": [
    "# DQN algos\n"
   ]
  },
  {
   "cell_type": "markdown",
   "metadata": {},
   "source": [
    "## CartPole-v1\n"
   ]
  },
  {
   "cell_type": "markdown",
   "metadata": {},
   "source": [
    "### seed 1: "
   ]
  },
  {
   "cell_type": "code",
   "execution_count": 2,
   "metadata": {},
   "outputs": [],
   "source": [
    "DQN_data_seed1 = np.array([])\n",
    "\n",
    "\n",
    "bootstrapped_IV_DQN_data_seed1 = np.array([])\n",
    "\n",
    "\n",
    "IV_DQN_data_seed1 = np.array([])\n"
   ]
  },
  {
   "cell_type": "markdown",
   "metadata": {},
   "source": [
    "### seed 2:\n",
    " "
   ]
  },
  {
   "cell_type": "code",
   "execution_count": null,
   "metadata": {},
   "outputs": [],
   "source": [
    "DQN_data_seed2 = np.array([])\n",
    "\n",
    "\n",
    "bootstrapped_IV_DQN_data_seed2 = np.array([])\n",
    "\n",
    "\n",
    "IV_DQN_data_seed2 = np.array([])\n"
   ]
  },
  {
   "cell_type": "markdown",
   "metadata": {},
   "source": [
    "### seed 3:\n"
   ]
  },
  {
   "cell_type": "code",
   "execution_count": null,
   "metadata": {},
   "outputs": [],
   "source": [
    "DQN_data_seed3 = np.array([])\n",
    "\n",
    "\n",
    "bootstrapped_IV_DQN_data_seed3 = np.array([])\n",
    "\n",
    "  \n",
    "IV_DQN_data_seed3 = np.array([])\n"
   ]
  },
  {
   "cell_type": "markdown",
   "metadata": {},
   "source": [
    "### seed 4: \n"
   ]
  },
  {
   "cell_type": "code",
   "execution_count": null,
   "metadata": {},
   "outputs": [],
   "source": [
    "DQN_data_seed4 = np.array([])\n",
    "\n",
    "\n",
    "bootstrapped_IV_DQN_data_seed4 = np.array([])\n",
    "\n",
    "    \n",
    "IV_DQN_data_seed4 = np.array([])\n"
   ]
  },
  {
   "cell_type": "markdown",
   "metadata": {},
   "source": [
    "### seed 5: \n"
   ]
  },
  {
   "cell_type": "code",
   "execution_count": null,
   "metadata": {},
   "outputs": [],
   "source": [
    "DQN_data_seed5 = np.array([])\n",
    "\n",
    "\n",
    "bootstrapped_IV_DQN_data_seed5 = np.array([])\n",
    "    \n",
    "    \n",
    "IV_DQN_data_seed5 = np.array([])\n"
   ]
  },
  {
   "cell_type": "markdown",
   "metadata": {},
   "source": [
    "### Average data over seeds\n"
   ]
  },
  {
   "cell_type": "code",
   "execution_count": null,
   "metadata": {},
   "outputs": [],
   "source": [
    "DQN_data = np.avg([DQN_data_seed1, DQN_data_seed2, DQN_data_seed3, DQN_data_seed4, DQN_data_seed5], axis=0)\n",
    "\n",
    "\n",
    "bootstrapped_IV_DQN_data = np.avg([bootstrapped_IV_DQN_data_seed1, bootstrapped_IV_DQN_data_seed2, bootstrapped_IV_DQN_data_seed3, bootstrapped_IV_DQN_data_seed4, bootstrapped_IV_DQN_data_seed5], axis=0)\n",
    "\n",
    "\n",
    "IV_DQN_data = np.avg([IV_DQN_data_seed1, IV_DQN_data_seed2, IV_DQN_data_seed3, IV_DQN_data_seed4, IV_DQN_data_seed5], axis=0)\n",
    "\n",
    "print(\"DQN_data_CartPole_v1 \", list(DQN_data), \"\\n\")\n",
    "print(\"bootstrapped_IV_DQN_data_CartPole_v1 \", list(bootstrapped_IV_DQN_data), \"\\n\")\n",
    "print(\"IV_DQN_data_CartPole_v1 \", list(IV_DQN_data), \"\\n\")\n",
    "\n"
   ]
  },
  {
   "cell_type": "markdown",
   "metadata": {},
   "source": [
    "### Graphs\n"
   ]
  },
  {
   "cell_type": "code",
   "execution_count": null,
   "metadata": {},
   "outputs": [],
   "source": [
    "plt.plot(DQN_data, label='DQN')\n",
    "plt.plot(bootstrapped_IV_DQN_data, label='Bootstrapped IV DQN')\n",
    "plt.plot(IV_DQN_data, label='IV DQN')\n",
    "plt.xlabel('Episodes')\n",
    "plt.ylabel('Episodic Reward')\n",
    "plt.title(\"CartPole-v1\")\n",
    "\n",
    "plt.legend()\n",
    "\n"
   ]
  },
  {
   "cell_type": "code",
   "execution_count": null,
   "metadata": {},
   "outputs": [],
   "source": [
    "import pandas as pd\n",
    "# Compute moving average with window size of 10\n",
    "window_size = 40\n",
    "\n",
    "smoothed_DQN_data = pd.Series(DQN_data).rolling(window=window_size).mean()\n",
    "smoothed_bootstrapped_IV_DQN_data = pd.Series(bootstrapped_IV_DQN_data).rolling(window=window_size).mean()\n",
    "smoothed_IV_DQN_data = pd.Series(IV_DQN_data).rolling(window=window_size).mean()\n",
    "\n",
    "\n",
    "plt.plot(smoothed_DQN_data, label=f\"Moving Avg DQN\", linewidth=2)\n",
    "plt.plot(smoothed_bootstrapped_IV_DQN_data, label=f\"Moving Avg bootstrapped IV-DQN\", linewidth=2)\n",
    "plt.plot(smoothed_IV_DQN_data, label=f\"Moving Avg IV-DQN\", linewidth=2)\n",
    "\n",
    "plt.xlabel('Episodes')\n",
    "plt.ylabel(f'Moving avg of last {window_size} Episodic Rewards')\n",
    "plt.title(\"CartPole-v1\")\n",
    "\n",
    "plt.legend()\n",
    "\n",
    "    "
   ]
  },
  {
   "cell_type": "markdown",
   "metadata": {},
   "source": [
    "## MoutainCar-v0\n",
    "discrete version\n",
    "\n"
   ]
  },
  {
   "cell_type": "markdown",
   "metadata": {},
   "source": [
    "### Seed 1:\n"
   ]
  },
  {
   "cell_type": "code",
   "execution_count": 10,
   "metadata": {},
   "outputs": [],
   "source": [
    "DQN_data_seed1 = []\n",
    "\n",
    "\n",
    "bootstrapped_IV_DQN_data_seed1 = []\n",
    "\n",
    "\n",
    "IV_DQN_data_seed1 = []\n",
    "\n"
   ]
  },
  {
   "cell_type": "markdown",
   "metadata": {},
   "source": [
    "### seed 2: \n"
   ]
  },
  {
   "cell_type": "code",
   "execution_count": null,
   "metadata": {},
   "outputs": [],
   "source": [
    "DQN_data_seed2 = []\n",
    "\n",
    "\n",
    "bootstrapped_IV_DQN_data_seed2 = []\n",
    "\n",
    "\n",
    "IV_DQN_data_seed2 = []\n",
    "\n"
   ]
  },
  {
   "cell_type": "markdown",
   "metadata": {},
   "source": [
    "### seed 3: \n"
   ]
  },
  {
   "cell_type": "code",
   "execution_count": null,
   "metadata": {},
   "outputs": [],
   "source": [
    "DQN_data_seed3 = []\n",
    "\n",
    "\n",
    "bootstrapped_IV_DQN_data_seed3 = []\n",
    "\n",
    "\n",
    "IV_DQN_data_seed3 = []\n",
    "\n"
   ]
  },
  {
   "cell_type": "markdown",
   "metadata": {},
   "source": [
    "### seed 4: \n"
   ]
  },
  {
   "cell_type": "code",
   "execution_count": null,
   "metadata": {},
   "outputs": [],
   "source": [
    "DQN_data_seed4 = []\n",
    "\n",
    "\n",
    "bootstrapped_IV_DQN_data_seed4 = []\n",
    "\n",
    "\n",
    "IV_DQN_data_seed4 = []\n",
    "\n"
   ]
  },
  {
   "cell_type": "markdown",
   "metadata": {},
   "source": [
    "### seed 5: \n"
   ]
  },
  {
   "cell_type": "code",
   "execution_count": null,
   "metadata": {},
   "outputs": [],
   "source": [
    "DQN_data_seed5 = []\n",
    "\n",
    "\n",
    "bootstrapped_IV_DQN_data_seed5 = []\n",
    "\n",
    "\n",
    "IV_DQN_data_seed5 = []\n",
    "\n"
   ]
  },
  {
   "cell_type": "markdown",
   "metadata": {},
   "source": [
    "### Average data over seeds\n"
   ]
  },
  {
   "cell_type": "code",
   "execution_count": null,
   "metadata": {},
   "outputs": [],
   "source": [
    "DQN_data = np.avg([DQN_data_seed1, DQN_data_seed2, DQN_data_seed3, DQN_data_seed4, DQN_data_seed5], axis=0)\n",
    "\n",
    "\n",
    "bootstrapped_IV_DQN_data = np.avg([bootstrapped_IV_DQN_data_seed1, bootstrapped_IV_DQN_data_seed2, bootstrapped_IV_DQN_data_seed3, bootstrapped_IV_DQN_data_seed4, bootstrapped_IV_DQN_data_seed5], axis=0)\n",
    "\n",
    "\n",
    "IV_DQN_data = np.avg([IV_DQN_data_seed1, IV_DQN_data_seed2, IV_DQN_data_seed3, IV_DQN_data_seed4, IV_DQN_data_seed5], axis=0)\n",
    "\n",
    "print(\"DQN_data_MountainCar_v0 \", list(DQN_data), \"\\n\")\n",
    "print(\"bootstrapped_IV_DQN_data_MountainCar_v0 \", list(bootstrapped_IV_DQN_data), \"\\n\")\n",
    "print(\"IV_DQN_data_MountainCar_v0 \", list(IV_DQN_data), \"\\n\")\n",
    "\n"
   ]
  },
  {
   "cell_type": "markdown",
   "metadata": {},
   "source": [
    "### Graphs\n"
   ]
  },
  {
   "cell_type": "code",
   "execution_count": null,
   "metadata": {},
   "outputs": [],
   "source": [
    "plt.plot(DQN_data, label='DQN')\n",
    "plt.plot(bootstrapped_IV_DQN_data, label='Bootstrapped IV DQN')\n",
    "plt.plot(IV_DQN_data, label='IV DQN')\n",
    "plt.xlabel('Episodes')\n",
    "plt.ylabel('Episodic Reward')\n",
    "plt.title(\"MountainCar-v0\")\n",
    "plt.legend()\n",
    "\n"
   ]
  },
  {
   "cell_type": "code",
   "execution_count": null,
   "metadata": {},
   "outputs": [],
   "source": [
    "import pandas as pd\n",
    "# Compute moving average with window size of 10\n",
    "window_size = 10\n",
    "\n",
    "smoothed_DQN_data = pd.Series(DQN_data).rolling(window=window_size).mean()\n",
    "smoothed_bootstrapped_IV_DQN_data = pd.Series(bootstrapped_IV_DQN_data).rolling(window=window_size).mean()\n",
    "smoothed_IV_DQN_data = pd.Series(IV_DQN_data).rolling(window=window_size).mean()\n",
    "\n",
    "\n",
    "plt.plot(smoothed_DQN_data, label=f\"Moving Avg DQN\", linewidth=2)\n",
    "plt.plot(smoothed_bootstrapped_IV_DQN_data, label=f\"Moving Avg bootstrapped IV-DQN\", linewidth=2)\n",
    "plt.plot(smoothed_IV_DQN_data, label=f\"Moving Avg IV-DQN\", linewidth=2)\n",
    "plt.xlabel('Episodes')\n",
    "plt.ylabel('Moving avg of last 10 Episodic Rewards')\n",
    "plt.title(\"MountainCar-v0\")\n",
    "plt.legend()"
   ]
  },
  {
   "cell_type": "markdown",
   "metadata": {},
   "source": [
    "## LunarLander-v2\n"
   ]
  },
  {
   "cell_type": "markdown",
   "metadata": {},
   "source": [
    "### seed 1: \n"
   ]
  },
  {
   "cell_type": "code",
   "execution_count": 13,
   "metadata": {},
   "outputs": [],
   "source": [
    "DQN_data_seed1 = []\n",
    "\n",
    "\n",
    "bootstrapped_IV_DQN_data_seed1 = []\n",
    "\n",
    "\n",
    "IV_DQN_data_seed1 = []\n",
    "\n"
   ]
  },
  {
   "cell_type": "markdown",
   "metadata": {},
   "source": [
    "### seed 2: \n"
   ]
  },
  {
   "cell_type": "code",
   "execution_count": null,
   "metadata": {},
   "outputs": [],
   "source": [
    "DQN_data_seed2 = []\n",
    "\n",
    "\n",
    "bootstrapped_IV_DQN_data_seed2 = []\n",
    "\n",
    "\n",
    "IV_DQN_data_seed2 = []\n",
    "\n"
   ]
  },
  {
   "cell_type": "markdown",
   "metadata": {},
   "source": [
    "### seed 3: \n"
   ]
  },
  {
   "cell_type": "code",
   "execution_count": null,
   "metadata": {},
   "outputs": [],
   "source": [
    "DQN_data_seed3 = []\n",
    "\n",
    "\n",
    "bootstrapped_IV_DQN_data_seed3 = []\n",
    "\n",
    "\n",
    "IV_DQN_data_seed3 = []\n",
    "\n"
   ]
  },
  {
   "cell_type": "markdown",
   "metadata": {},
   "source": [
    "### seed 4: \n"
   ]
  },
  {
   "cell_type": "code",
   "execution_count": null,
   "metadata": {},
   "outputs": [],
   "source": [
    "DQN_data_seed4 = []\n",
    "\n",
    "\n",
    "bootstrapped_IV_DQN_data_seed4 = []\n",
    "\n",
    "\n",
    "IV_DQN_data_seed4 = []\n",
    "\n"
   ]
  },
  {
   "cell_type": "markdown",
   "metadata": {},
   "source": [
    "### seed 5: \n"
   ]
  },
  {
   "cell_type": "code",
   "execution_count": null,
   "metadata": {},
   "outputs": [],
   "source": [
    "DQN_data_seed5 = []\n",
    "\n",
    "\n",
    "bootstrapped_IV_DQN_data_seed5 = []\n",
    "\n",
    "\n",
    "IV_DQN_data_seed5 = []\n",
    "\n"
   ]
  },
  {
   "cell_type": "markdown",
   "metadata": {},
   "source": [
    "### Average data over seeds\n"
   ]
  },
  {
   "cell_type": "code",
   "execution_count": null,
   "metadata": {},
   "outputs": [],
   "source": [
    "DQN_data = np.avg([DQN_data_seed1, DQN_data_seed2, DQN_data_seed3, DQN_data_seed4, DQN_data_seed5], axis=0)\n",
    "\n",
    "\n",
    "bootstrapped_IV_DQN_data = np.avg([bootstrapped_IV_DQN_data_seed1, bootstrapped_IV_DQN_data_seed2, bootstrapped_IV_DQN_data_seed3, bootstrapped_IV_DQN_data_seed4, bootstrapped_IV_DQN_data_seed5], axis=0)\n",
    "\n",
    "\n",
    "IV_DQN_data = np.avg([IV_DQN_data_seed1, IV_DQN_data_seed2, IV_DQN_data_seed3, IV_DQN_data_seed4, IV_DQN_data_seed5], axis=0)\n",
    "\n",
    "print(\"DQN_data_LunarLander_v2 \", list(DQN_data), \"\\n\")\n",
    "print(\"bootstrapped_IV_DQN_data_LunarLander_v2 \", list(bootstrapped_IV_DQN_data), \"\\n\")\n",
    "print(\"IV_DQN_data_LunarLander_v2 \", list(IV_DQN_data), \"\\n\")\n",
    "\n"
   ]
  },
  {
   "cell_type": "markdown",
   "metadata": {},
   "source": [
    "### Graphs \n"
   ]
  },
  {
   "cell_type": "code",
   "execution_count": null,
   "metadata": {},
   "outputs": [],
   "source": [
    "plt.plot(DQN_data, label='DQN')\n",
    "plt.plot(bootstrapped_IV_DQN_data, label='Bootstrapped IV DQN')\n",
    "plt.plot(IV_DQN_data, label='IV DQN')\n",
    "plt.xlabel('Episodes')\n",
    "plt.ylabel('Episodic Reward')\n",
    "plt.title(\"LunarLander-v2\")\n",
    "plt.legend()\n",
    "\n"
   ]
  },
  {
   "cell_type": "code",
   "execution_count": null,
   "metadata": {},
   "outputs": [],
   "source": [
    "import pandas as pd\n",
    "# Compute moving average with window size of 10\n",
    "window_size = 10\n",
    "\n",
    "smoothed_DQN_data = pd.Series(DQN_data).rolling(window=window_size).mean()\n",
    "smoothed_bootstrapped_IV_DQN_data = pd.Series(bootstrapped_IV_DQN_data).rolling(window=window_size).mean()\n",
    "smoothed_IV_DQN_data = pd.Series(IV_DQN_data).rolling(window=window_size).mean()\n",
    "\n",
    "\n",
    "plt.plot(smoothed_DQN_data, label=f\"Moving Avg DQN\", linewidth=2)\n",
    "plt.plot(smoothed_bootstrapped_IV_DQN_data, label=f\"Moving Avg bootstrapped IV-DQN\", linewidth=2)\n",
    "plt.plot(smoothed_IV_DQN_data, label=f\"Moving Avg IV-DQN\", linewidth=2)\n",
    "plt.xlabel('Episodes')\n",
    "plt.ylabel('Moving avg of last 10 Episodic Rewards')\n",
    "plt.title(\"LunarLander-v2\")\n",
    "plt.legend()"
   ]
  },
  {
   "cell_type": "markdown",
   "metadata": {},
   "source": [
    "## Acrobot-v1\n"
   ]
  },
  {
   "cell_type": "markdown",
   "metadata": {},
   "source": [
    "### Seed 1:\n"
   ]
  },
  {
   "cell_type": "code",
   "execution_count": 7,
   "metadata": {},
   "outputs": [],
   "source": [
    "DQN_data_seed1 = []\n",
    "\n",
    "\n",
    "bootstrapped_IV_DQN_data_seed1 = []\n",
    "\n",
    "\n",
    "IV_DQN_data_seed1 = []\n",
    "\n",
    "\n"
   ]
  },
  {
   "cell_type": "markdown",
   "metadata": {},
   "source": [
    "### Seed 2:\n"
   ]
  },
  {
   "cell_type": "code",
   "execution_count": null,
   "metadata": {},
   "outputs": [],
   "source": [
    "DQN_data_seed2 = []\n",
    "\n",
    "\n",
    "bootstrapped_IV_DQN_data_seed2 = []\n",
    "\n",
    "\n",
    "IV_DQN_data_seed2 = []\n",
    "\n"
   ]
  },
  {
   "cell_type": "markdown",
   "metadata": {},
   "source": [
    "### Seed 3:\n"
   ]
  },
  {
   "cell_type": "code",
   "execution_count": null,
   "metadata": {},
   "outputs": [],
   "source": [
    "DQN_data_seed3 = []\n",
    "\n",
    "\n",
    "bootstrapped_IV_DQN_data_seed3 = []\n",
    "\n",
    "\n",
    "IV_DQN_data_seed3 = []\n",
    "\n"
   ]
  },
  {
   "cell_type": "markdown",
   "metadata": {},
   "source": [
    "### Seed 4:\n"
   ]
  },
  {
   "cell_type": "code",
   "execution_count": null,
   "metadata": {},
   "outputs": [],
   "source": [
    "DQN_data_seed4 = []\n",
    "\n",
    "\n",
    "bootstrapped_IV_DQN_data_seed4 = []\n",
    "\n",
    "\n",
    "IV_DQN_data_seed4 = []\n",
    "\n"
   ]
  },
  {
   "cell_type": "markdown",
   "metadata": {},
   "source": [
    "### Seed 5:\n"
   ]
  },
  {
   "cell_type": "code",
   "execution_count": null,
   "metadata": {},
   "outputs": [],
   "source": [
    "DQN_data_seed5 = []\n",
    "\n",
    "\n",
    "bootstrapped_IV_DQN_data_seed5 = []\n",
    "\n",
    "\n",
    "IV_DQN_data_seed5 = []\n",
    "\n"
   ]
  },
  {
   "cell_type": "markdown",
   "metadata": {},
   "source": [
    "### Average data over seeds\n"
   ]
  },
  {
   "cell_type": "code",
   "execution_count": null,
   "metadata": {},
   "outputs": [],
   "source": [
    "DQN_data = np.avg([DQN_data_seed1, DQN_data_seed2, DQN_data_seed3, DQN_data_seed4, DQN_data_seed5], axis=0)\n",
    "\n",
    "\n",
    "bootstrapped_IV_DQN_data = np.avg([bootstrapped_IV_DQN_data_seed1, bootstrapped_IV_DQN_data_seed2, bootstrapped_IV_DQN_data_seed3, bootstrapped_IV_DQN_data_seed4, bootstrapped_IV_DQN_data_seed5], axis=0)\n",
    "\n",
    "\n",
    "IV_DQN_data = np.avg([IV_DQN_data_seed1, IV_DQN_data_seed2, IV_DQN_data_seed3, IV_DQN_data_seed4, IV_DQN_data_seed5], axis=0)\n",
    "\n",
    "print(\"DQN_data_acrobot_v1 \", list(DQN_data), \"\\n\")\n",
    "print(\"bootstrapped_IV_DQN_data_acrobot_v1 \", list(bootstrapped_IV_DQN_data), \"\\n\")\n",
    "print(\"IV_DQN_data_acrobot_v1 \", list(IV_DQN_data), \"\\n\")\n",
    "\n"
   ]
  },
  {
   "cell_type": "markdown",
   "metadata": {},
   "source": [
    "### Graphs\n"
   ]
  },
  {
   "cell_type": "code",
   "execution_count": null,
   "metadata": {},
   "outputs": [],
   "source": [
    "plt.plot(DQN_data, label='DQN')\n",
    "plt.plot(bootstrapped_IV_DQN_data, label='Bootstrapped IV DQN')\n",
    "plt.plot(IV_DQN_data, label='IV DQN')\n",
    "plt.xlabel('Episodes')\n",
    "plt.ylabel('Episodic Reward')\n",
    "plt.legend()\n",
    "\n"
   ]
  },
  {
   "cell_type": "code",
   "execution_count": null,
   "metadata": {},
   "outputs": [],
   "source": [
    "import pandas as pd\n",
    "# Compute moving average with window size of 10\n",
    "window_size = 10\n",
    "\n",
    "smoothed_DQN_data = pd.Series(DQN_data).rolling(window=window_size).mean()\n",
    "smoothed_bootstrapped_IV_DQN_data = pd.Series(bootstrapped_IV_DQN_data).rolling(window=window_size).mean()\n",
    "smoothed_IV_DQN_data = pd.Series(IV_DQN_data).rolling(window=window_size).mean()\n",
    "\n",
    "\n",
    "plt.plot(smoothed_DQN_data, label=f\"Moving Avg DQN\", linewidth=2)\n",
    "plt.plot(smoothed_bootstrapped_IV_DQN_data, label=f\"Moving Avg bootstrapped IV-DQN\", linewidth=2)\n",
    "plt.plot(smoothed_IV_DQN_data, label=f\"Moving Avg IV-DQN\", linewidth=2)\n",
    "plt.legend()"
   ]
  }
 ],
 "metadata": {
  "kernelspec": {
   "display_name": "iv_rl",
   "language": "python",
   "name": "python3"
  },
  "language_info": {
   "codemirror_mode": {
    "name": "ipython",
    "version": 3
   },
   "file_extension": ".py",
   "mimetype": "text/x-python",
   "name": "python",
   "nbconvert_exporter": "python",
   "pygments_lexer": "ipython3",
   "version": "3.7.12"
  }
 },
 "nbformat": 4,
 "nbformat_minor": 2
}
